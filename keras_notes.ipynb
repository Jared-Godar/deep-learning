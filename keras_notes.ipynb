{
 "cells": [
  {
   "cell_type": "markdown",
   "metadata": {},
   "source": [
    "### Run a TensorFlow Container\n",
    "\n",
    "The TensorFlow Docker images are already configured to run TensorFlow. A [Docker container](https://www.tensorflow.org/install/docker) runs in a virtual environment and is the easiest way to set up GPU support."
   ]
  },
  {
   "cell_type": "markdown",
   "metadata": {},
   "source": [
    ">`docker pull tensorflow/tensorflow:latest  # Download latest stable image`\n",
    "\n",
    ">`docker run -it -p 8888:8888 tensorflow/tensorflow:latest-jupyter  # Start Jupyter server `"
   ]
  },
  {
   "cell_type": "markdown",
   "metadata": {},
   "source": [
    "### Google Colab: Way to learn and use"
   ]
  },
  {
   "cell_type": "markdown",
   "metadata": {},
   "source": [
    "No install necessary—run the [TensorFlow tutorials](https://www.tensorflow.org/tutorials) directly in the browser with [Colaboratory](https://colab.research.google.com/notebooks/welcome.ipynb), a Google research project created to help disseminate machine learning education and research. It's a Jupyter notebook environment that requires no setup to use and runs entirely in the cloud. [Read the blog post.](https://medium.com/tensorflow/colab-an-easy-way-to-learn-and-use-tensorflow-d74d1686e309)"
   ]
  },
  {
   "cell_type": "code",
   "execution_count": null,
   "metadata": {},
   "outputs": [],
   "source": []
  }
 ],
 "metadata": {
  "language_info": {
   "name": "python"
  },
  "orig_nbformat": 4
 },
 "nbformat": 4,
 "nbformat_minor": 2
}
